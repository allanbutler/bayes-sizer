{
 "cells": [
  {
   "cell_type": "code",
   "execution_count": 4,
   "metadata": {},
   "outputs": [],
   "source": [
    "import sys\n",
    "import os\n",
    "\n",
    "sys.path.append(os.path.abspath(os.path.join(os.getcwd(), \"bayessizer\")))"
   ]
  },
  {
   "cell_type": "code",
   "execution_count": 9,
   "metadata": {},
   "outputs": [
    {
     "name": "stdout",
     "output_type": "stream",
     "text": [
      "/Users/b174270/bayes-sizer/bayessizer\n"
     ]
    }
   ],
   "source": [
    "import os\n",
    "print(os.getcwd())  # Ensure this is the root of your project"
   ]
  },
  {
   "cell_type": "code",
   "execution_count": 2,
   "metadata": {},
   "outputs": [
    {
     "ename": "FileNotFoundError",
     "evalue": "[Errno 2] No such file or directory: '~'",
     "output_type": "error",
     "traceback": [
      "\u001b[31m---------------------------------------------------------------------------\u001b[39m",
      "\u001b[31mFileNotFoundError\u001b[39m                         Traceback (most recent call last)",
      "\u001b[36mCell\u001b[39m\u001b[36m \u001b[39m\u001b[32mIn[2]\u001b[39m\u001b[32m, line 2\u001b[39m\n\u001b[32m      1\u001b[39m \u001b[38;5;28;01mimport\u001b[39;00m\u001b[38;5;250m \u001b[39m\u001b[34;01mos\u001b[39;00m\n\u001b[32m----> \u001b[39m\u001b[32m2\u001b[39m \u001b[43mos\u001b[49m\u001b[43m.\u001b[49m\u001b[43mchdir\u001b[49m\u001b[43m(\u001b[49m\u001b[33;43m\"\u001b[39;49m\u001b[33;43m~\u001b[39;49m\u001b[33;43m\"\u001b[39;49m\u001b[43m)\u001b[49m\n",
      "\u001b[31mFileNotFoundError\u001b[39m: [Errno 2] No such file or directory: '~'"
     ]
    }
   ],
   "source": [
    "import os\n",
    "os.chdir(\"/Users/b174270/bayes-sizer\")"
   ]
  },
  {
   "cell_type": "code",
   "execution_count": 12,
   "metadata": {},
   "outputs": [],
   "source": [
    "import numpy as np\n",
    "import matplotlib.pyplot as plt\n",
    "import seaborn as sns\n",
    "from scipy.stats import beta\n",
    "from bayessizer.calculator import bayesian_sample_size\n",
    "from bayessizer.inference import compute_posterior, credible_interval, probability_test_better\n",
    "from bayessizer.priors import get_beta_prior\n",
    "\n",
    "\n",
    "# Set notebook to display inline plots\n",
    "%matplotlib inline"
   ]
  },
  {
   "cell_type": "code",
   "execution_count": null,
   "metadata": {},
   "outputs": [],
   "source": [
    "from bayessizer.calculator import bayesian_sample_size\n",
    "\n",
    "# Example: Calculate required sample size with default parameters\n",
    "sample_size = bayesian_sample_size(prior_a=2, prior_b=2, min_effect=0.02, power=0.9, loss_threshold=0.005)\n",
    "print(f\"Required sample size per group for 2% effect size: {sample_size}\")"
   ]
  },
  {
   "cell_type": "code",
   "execution_count": 14,
   "metadata": {},
   "outputs": [
    {
     "ename": "KeyboardInterrupt",
     "evalue": "",
     "output_type": "error",
     "traceback": [
      "\u001b[31m---------------------------------------------------------------------------\u001b[39m",
      "\u001b[31mKeyboardInterrupt\u001b[39m                         Traceback (most recent call last)",
      "\u001b[36mCell\u001b[39m\u001b[36m \u001b[39m\u001b[32mIn[14]\u001b[39m\u001b[32m, line 3\u001b[39m\n\u001b[32m      1\u001b[39m \u001b[38;5;66;03m# Example: Compute Bayesian sample size with different minimum effects\u001b[39;00m\n\u001b[32m      2\u001b[39m min_effects = np.linspace(\u001b[32m0.01\u001b[39m, \u001b[32m0.1\u001b[39m, \u001b[32m10\u001b[39m)\n\u001b[32m----> \u001b[39m\u001b[32m3\u001b[39m sample_sizes = [\u001b[43mbayesian_sample_size\u001b[49m\u001b[43m(\u001b[49m\u001b[43mprior_a\u001b[49m\u001b[43m=\u001b[49m\u001b[32;43m2\u001b[39;49m\u001b[43m,\u001b[49m\u001b[43m \u001b[49m\u001b[43mprior_b\u001b[49m\u001b[43m=\u001b[49m\u001b[32;43m2\u001b[39;49m\u001b[43m,\u001b[49m\u001b[43m \u001b[49m\u001b[43mmin_effect\u001b[49m\u001b[43m=\u001b[49m\u001b[43me\u001b[49m\u001b[43m,\u001b[49m\u001b[43m \u001b[49m\u001b[43mpower\u001b[49m\u001b[43m=\u001b[49m\u001b[32;43m0.9\u001b[39;49m\u001b[43m,\u001b[49m\u001b[43m \u001b[49m\u001b[43mloss_threshold\u001b[49m\u001b[43m=\u001b[49m\u001b[32;43m0.05\u001b[39;49m\u001b[43m)\u001b[49m \u001b[38;5;28;01mfor\u001b[39;00m e \u001b[38;5;129;01min\u001b[39;00m min_effects]\n\u001b[32m      5\u001b[39m \u001b[38;5;66;03m# Plot the effect size vs. required sample size\u001b[39;00m\n\u001b[32m      6\u001b[39m plt.figure(figsize=(\u001b[32m8\u001b[39m, \u001b[32m5\u001b[39m))\n",
      "\u001b[36mFile \u001b[39m\u001b[32m~/bayes-sizer/bayessizer/calculator.py:25\u001b[39m, in \u001b[36mbayesian_sample_size\u001b[39m\u001b[34m(prior_a, prior_b, min_effect, power, loss_threshold)\u001b[39m\n\u001b[32m     22\u001b[39m \u001b[38;5;28;01mwhile\u001b[39;00m \u001b[38;5;28;01mTrue\u001b[39;00m:\n\u001b[32m     23\u001b[39m     \u001b[38;5;66;03m# Compute posterior distributions\u001b[39;00m\n\u001b[32m     24\u001b[39m     control_posterior = compute_posterior(prior_a, prior_b, sample_size, \u001b[32m0.5\u001b[39m)\n\u001b[32m---> \u001b[39m\u001b[32m25\u001b[39m     test_posterior = \u001b[43mcompute_posterior\u001b[49m\u001b[43m(\u001b[49m\u001b[43mprior_a\u001b[49m\u001b[43m,\u001b[49m\u001b[43m \u001b[49m\u001b[43mprior_b\u001b[49m\u001b[43m,\u001b[49m\u001b[43m \u001b[49m\u001b[43msample_size\u001b[49m\u001b[43m,\u001b[49m\u001b[43m \u001b[49m\u001b[32;43m0.5\u001b[39;49m\u001b[43m \u001b[49m\u001b[43m+\u001b[49m\u001b[43m \u001b[49m\u001b[43mmin_effect\u001b[49m\u001b[43m)\u001b[49m\n\u001b[32m     27\u001b[39m     \u001b[38;5;66;03m# Compute probability that the test is better than control\u001b[39;00m\n\u001b[32m     28\u001b[39m     prob_test_better = probability_test_better(control_posterior, test_posterior)\n",
      "\u001b[36mFile \u001b[39m\u001b[32m~/bayes-sizer/bayessizer/inference.py:17\u001b[39m, in \u001b[36mcompute_posterior\u001b[39m\u001b[34m(prior_a, prior_b, sample_size, success_rate)\u001b[39m\n\u001b[32m      4\u001b[39m \u001b[38;5;28;01mdef\u001b[39;00m\u001b[38;5;250m \u001b[39m\u001b[34mcompute_posterior\u001b[39m(prior_a, prior_b, sample_size, success_rate):\n\u001b[32m      5\u001b[39m \u001b[38;5;250m    \u001b[39m\u001b[33;03m\"\"\"\u001b[39;00m\n\u001b[32m      6\u001b[39m \u001b[33;03m    Computes the posterior distribution for Bayesian inference.\u001b[39;00m\n\u001b[32m      7\u001b[39m \n\u001b[32m   (...)\u001b[39m\u001b[32m     15\u001b[39m \u001b[33;03m    - scipy.stats.beta: Beta distribution representing the posterior.\u001b[39;00m\n\u001b[32m     16\u001b[39m \u001b[33;03m    \"\"\"\u001b[39;00m\n\u001b[32m---> \u001b[39m\u001b[32m17\u001b[39m     \u001b[38;5;28;01mreturn\u001b[39;00m \u001b[43mbeta\u001b[49m\u001b[43m(\u001b[49m\u001b[43mprior_a\u001b[49m\u001b[43m \u001b[49m\u001b[43m+\u001b[49m\u001b[43m \u001b[49m\u001b[43msample_size\u001b[49m\u001b[43m \u001b[49m\u001b[43m*\u001b[49m\u001b[43m \u001b[49m\u001b[43msuccess_rate\u001b[49m\u001b[43m,\u001b[49m\u001b[43m \u001b[49m\u001b[43mprior_b\u001b[49m\u001b[43m \u001b[49m\u001b[43m+\u001b[49m\u001b[43m \u001b[49m\u001b[43msample_size\u001b[49m\u001b[43m \u001b[49m\u001b[43m*\u001b[49m\u001b[43m \u001b[49m\u001b[43m(\u001b[49m\u001b[32;43m1\u001b[39;49m\u001b[43m \u001b[49m\u001b[43m-\u001b[49m\u001b[43m \u001b[49m\u001b[43msuccess_rate\u001b[49m\u001b[43m)\u001b[49m\u001b[43m)\u001b[49m\n",
      "\u001b[36mFile \u001b[39m\u001b[32m~/bayes-sizer/.venv/lib/python3.12/site-packages/scipy/stats/_distn_infrastructure.py:893\u001b[39m, in \u001b[36mrv_generic.__call__\u001b[39m\u001b[34m(self, *args, **kwds)\u001b[39m\n\u001b[32m    892\u001b[39m \u001b[38;5;28;01mdef\u001b[39;00m\u001b[38;5;250m \u001b[39m\u001b[34m__call__\u001b[39m(\u001b[38;5;28mself\u001b[39m, *args, **kwds):\n\u001b[32m--> \u001b[39m\u001b[32m893\u001b[39m     \u001b[38;5;28;01mreturn\u001b[39;00m \u001b[38;5;28;43mself\u001b[39;49m\u001b[43m.\u001b[49m\u001b[43mfreeze\u001b[49m\u001b[43m(\u001b[49m\u001b[43m*\u001b[49m\u001b[43margs\u001b[49m\u001b[43m,\u001b[49m\u001b[43m \u001b[49m\u001b[43m*\u001b[49m\u001b[43m*\u001b[49m\u001b[43mkwds\u001b[49m\u001b[43m)\u001b[49m\n",
      "\u001b[36mFile \u001b[39m\u001b[32m~/bayes-sizer/.venv/lib/python3.12/site-packages/scipy/stats/_distn_infrastructure.py:888\u001b[39m, in \u001b[36mrv_generic.freeze\u001b[39m\u001b[34m(self, *args, **kwds)\u001b[39m\n\u001b[32m    873\u001b[39m \u001b[38;5;250m\u001b[39m\u001b[33;03m\"\"\"Freeze the distribution for the given arguments.\u001b[39;00m\n\u001b[32m    874\u001b[39m \n\u001b[32m    875\u001b[39m \u001b[33;03mParameters\u001b[39;00m\n\u001b[32m   (...)\u001b[39m\u001b[32m    885\u001b[39m \n\u001b[32m    886\u001b[39m \u001b[33;03m\"\"\"\u001b[39;00m\n\u001b[32m    887\u001b[39m \u001b[38;5;28;01mif\u001b[39;00m \u001b[38;5;28misinstance\u001b[39m(\u001b[38;5;28mself\u001b[39m, rv_continuous):\n\u001b[32m--> \u001b[39m\u001b[32m888\u001b[39m     \u001b[38;5;28;01mreturn\u001b[39;00m \u001b[43mrv_continuous_frozen\u001b[49m\u001b[43m(\u001b[49m\u001b[38;5;28;43mself\u001b[39;49m\u001b[43m,\u001b[49m\u001b[43m \u001b[49m\u001b[43m*\u001b[49m\u001b[43margs\u001b[49m\u001b[43m,\u001b[49m\u001b[43m \u001b[49m\u001b[43m*\u001b[49m\u001b[43m*\u001b[49m\u001b[43mkwds\u001b[49m\u001b[43m)\u001b[49m\n\u001b[32m    889\u001b[39m \u001b[38;5;28;01melse\u001b[39;00m:\n\u001b[32m    890\u001b[39m     \u001b[38;5;28;01mreturn\u001b[39;00m rv_discrete_frozen(\u001b[38;5;28mself\u001b[39m, *args, **kwds)\n",
      "\u001b[36mFile \u001b[39m\u001b[32m~/bayes-sizer/.venv/lib/python3.12/site-packages/scipy/stats/_distn_infrastructure.py:504\u001b[39m, in \u001b[36mrv_frozen.__init__\u001b[39m\u001b[34m(self, dist, *args, **kwds)\u001b[39m\n\u001b[32m    501\u001b[39m \u001b[38;5;28mself\u001b[39m.kwds = kwds\n\u001b[32m    503\u001b[39m \u001b[38;5;66;03m# create a new instance\u001b[39;00m\n\u001b[32m--> \u001b[39m\u001b[32m504\u001b[39m \u001b[38;5;28mself\u001b[39m.dist = \u001b[43mdist\u001b[49m\u001b[43m.\u001b[49m\u001b[34;43m__class__\u001b[39;49m\u001b[43m(\u001b[49m\u001b[43m*\u001b[49m\u001b[43m*\u001b[49m\u001b[43mdist\u001b[49m\u001b[43m.\u001b[49m\u001b[43m_updated_ctor_param\u001b[49m\u001b[43m(\u001b[49m\u001b[43m)\u001b[49m\u001b[43m)\u001b[49m\n\u001b[32m    506\u001b[39m shapes, _, _ = \u001b[38;5;28mself\u001b[39m.dist._parse_args(*args, **kwds)\n\u001b[32m    507\u001b[39m \u001b[38;5;28mself\u001b[39m.a, \u001b[38;5;28mself\u001b[39m.b = \u001b[38;5;28mself\u001b[39m.dist._get_support(*shapes)\n",
      "\u001b[36mFile \u001b[39m\u001b[32m~/bayes-sizer/.venv/lib/python3.12/site-packages/scipy/stats/_distn_infrastructure.py:1894\u001b[39m, in \u001b[36mrv_continuous.__init__\u001b[39m\u001b[34m(self, momtype, a, b, xtol, badvalue, name, longname, shapes, seed)\u001b[39m\n\u001b[32m   1892\u001b[39m \u001b[38;5;28;01melse\u001b[39;00m:\n\u001b[32m   1893\u001b[39m     dct = \u001b[38;5;28mdict\u001b[39m(distcont)\n\u001b[32m-> \u001b[39m\u001b[32m1894\u001b[39m     \u001b[38;5;28;43mself\u001b[39;49m\u001b[43m.\u001b[49m\u001b[43m_construct_doc\u001b[49m\u001b[43m(\u001b[49m\u001b[43mdocdict\u001b[49m\u001b[43m,\u001b[49m\u001b[43m \u001b[49m\u001b[43mdct\u001b[49m\u001b[43m.\u001b[49m\u001b[43mget\u001b[49m\u001b[43m(\u001b[49m\u001b[38;5;28;43mself\u001b[39;49m\u001b[43m.\u001b[49m\u001b[43mname\u001b[49m\u001b[43m)\u001b[49m\u001b[43m)\u001b[49m\n",
      "\u001b[36mFile \u001b[39m\u001b[32m~/bayes-sizer/.venv/lib/python3.12/site-packages/scipy/stats/_distn_infrastructure.py:854\u001b[39m, in \u001b[36mrv_generic._construct_doc\u001b[39m\u001b[34m(self, docdict, shapes_vals)\u001b[39m\n\u001b[32m    852\u001b[39m     \u001b[38;5;28mself\u001b[39m.\u001b[34m__doc__\u001b[39m = \u001b[38;5;28mself\u001b[39m.\u001b[34m__doc__\u001b[39m.replace(\u001b[33m\"\u001b[39m\u001b[38;5;132;01m%(shapes)s\u001b[39;00m\u001b[33m, \u001b[39m\u001b[33m\"\u001b[39m, \u001b[33m\"\u001b[39m\u001b[33m\"\u001b[39m)\n\u001b[32m    853\u001b[39m \u001b[38;5;28;01mtry\u001b[39;00m:\n\u001b[32m--> \u001b[39m\u001b[32m854\u001b[39m     \u001b[38;5;28mself\u001b[39m.\u001b[34m__doc__\u001b[39m = \u001b[43mdoccer\u001b[49m\u001b[43m.\u001b[49m\u001b[43mdocformat\u001b[49m\u001b[43m(\u001b[49m\u001b[38;5;28;43mself\u001b[39;49m\u001b[43m.\u001b[49m\u001b[34;43m__doc__\u001b[39;49m\u001b[43m,\u001b[49m\u001b[43m \u001b[49m\u001b[43mtempdict\u001b[49m\u001b[43m)\u001b[49m\n\u001b[32m    855\u001b[39m \u001b[38;5;28;01mexcept\u001b[39;00m \u001b[38;5;167;01mTypeError\u001b[39;00m \u001b[38;5;28;01mas\u001b[39;00m e:\n\u001b[32m    856\u001b[39m     \u001b[38;5;28;01mraise\u001b[39;00m \u001b[38;5;167;01mException\u001b[39;00m(\u001b[33m\"\u001b[39m\u001b[33mUnable to construct docstring for \u001b[39m\u001b[33m\"\u001b[39m\n\u001b[32m    857\u001b[39m                     \u001b[33mf\u001b[39m\u001b[33m\"\u001b[39m\u001b[33mdistribution \u001b[39m\u001b[38;5;130;01m\\\"\u001b[39;00m\u001b[38;5;132;01m{\u001b[39;00m\u001b[38;5;28mself\u001b[39m.name\u001b[38;5;132;01m}\u001b[39;00m\u001b[38;5;130;01m\\\"\u001b[39;00m\u001b[33m: \u001b[39m\u001b[38;5;132;01m{\u001b[39;00m\u001b[38;5;28mrepr\u001b[39m(e)\u001b[38;5;132;01m}\u001b[39;00m\u001b[33m\"\u001b[39m) \u001b[38;5;28;01mfrom\u001b[39;00m\u001b[38;5;250m \u001b[39m\u001b[34;01me\u001b[39;00m\n",
      "\u001b[36mFile \u001b[39m\u001b[32m~/bayes-sizer/.venv/lib/python3.12/site-packages/scipy/_lib/doccer.py:81\u001b[39m, in \u001b[36mdocformat\u001b[39m\u001b[34m(docstring, docdict)\u001b[39m\n\u001b[32m     79\u001b[39m     newlines = [lines[\u001b[32m0\u001b[39m]]\n\u001b[32m     80\u001b[39m     \u001b[38;5;28;01mfor\u001b[39;00m line \u001b[38;5;129;01min\u001b[39;00m lines[\u001b[32m1\u001b[39m:]:\n\u001b[32m---> \u001b[39m\u001b[32m81\u001b[39m         newlines.append(indent + line)\n\u001b[32m     82\u001b[39m     indented[name] = \u001b[33m\"\u001b[39m\u001b[38;5;130;01m\\n\u001b[39;00m\u001b[33m\"\u001b[39m.join(newlines)\n\u001b[32m     83\u001b[39m \u001b[38;5;28;01mexcept\u001b[39;00m \u001b[38;5;167;01mIndexError\u001b[39;00m:\n",
      "\u001b[31mKeyboardInterrupt\u001b[39m: "
     ]
    }
   ],
   "source": [
    "# Example: Compute Bayesian sample size with different minimum effects\n",
    "min_effects = np.linspace(0.01, 0.1, 10)\n",
    "sample_sizes = [bayesian_sample_size(prior_a=2, prior_b=2, min_effect=e, power=0.9, loss_threshold=0.05) for e in min_effects]\n",
    "\n",
    "# Plot the effect size vs. required sample size\n",
    "plt.figure(figsize=(8, 5))\n",
    "plt.plot(min_effects, sample_sizes, marker='o', linestyle='-')\n",
    "plt.xlabel('Minimum Detectable Effect Size')\n",
    "plt.ylabel('Required Sample Size per Group')\n",
    "plt.title('Bayesian Sample Size Calculation')\n",
    "plt.grid()\n",
    "plt.show()"
   ]
  },
  {
   "cell_type": "code",
   "execution_count": null,
   "metadata": {},
   "outputs": [],
   "source": [
    "# Display a single sample size calculation\n",
    "sample_size = bayesian_sample_size(prior_a=2, prior_b=2, min_effect=0.02, power=0.9, loss_threshold=0.01)\n",
    "print(f\"Required sample size per group for 2% effect size: {sample_size}\")\n",
    "\n",
    "# Plot posterior distributions for control and test groups\n",
    "sample_n = 100  # Fixed sample size for visualization\n",
    "control_posterior = beta(2 + sample_n * 0.5, 2 + sample_n * 0.5)\n",
    "test_posterior = beta(2 + sample_n * (0.5 + 0.02), 2 + sample_n * (0.5 - 0.02))\n",
    "\n",
    "x = np.linspace(0, 1, 1000)\n",
    "control_pdf = control_posterior.pdf(x)\n",
    "test_pdf = test_posterior.pdf(x)\n",
    "\n",
    "plt.figure(figsize=(8, 5))\n",
    "sns.lineplot(x=x, y=control_pdf, label='Control Group', color='blue')\n",
    "sns.lineplot(x=x, y=test_pdf, label='Test Group', color='red')\n",
    "\n",
    "# Compute 95% credible intervals\n",
    "control_ci_lower, control_ci_upper = control_posterior.ppf([0.025, 0.975])\n",
    "test_ci_lower, test_ci_upper = test_posterior.ppf([0.025, 0.975])\n",
    "\n",
    "plt.axvline(control_ci_lower, color='blue', linestyle='--', alpha=0.7, label='Control 95% CI')\n",
    "plt.axvline(control_ci_upper, color='blue', linestyle='--', alpha=0.7)\n",
    "plt.axvline(test_ci_lower, color='red', linestyle='--', alpha=0.7, label='Test 95% CI')\n",
    "plt.axvline(test_ci_upper, color='red', linestyle='--', alpha=0.7)\n",
    "\n",
    "# Compute probability that the test group is better than the control group\n",
    "prob_test_better = 1 - control_posterior.cdf(test_posterior.ppf(0.5))\n",
    "\n",
    "plt.xlabel('Conversion Rate')\n",
    "plt.ylabel('Density')\n",
    "plt.title(f'Posterior Distributions with 95% Credible Intervals\\nP(Test > Control) = {prob_test_better:.3f}')\n",
    "plt.legend()\n",
    "plt.grid()\n",
    "plt.show()\n",
    "\n",
    "print(f\"Probability that the test group outperforms the control group: {prob_test_better:.3f}\")\n",
    "\n",
    "# Implement Bayesian stopping criteria\n",
    "stopping_threshold = 0.95  # Stop when P(Test > Control) exceeds 95%\n",
    "\n",
    "if prob_test_better >= stopping_threshold:\n",
    "    print(\"Experiment can be stopped early: Test group is significantly better!\")\n",
    "else:\n",
    "    print(\"Continue collecting more data: Decision is uncertain.\")"
   ]
  }
 ],
 "metadata": {
  "kernelspec": {
   "display_name": ".venv",
   "language": "python",
   "name": "python3"
  },
  "language_info": {
   "codemirror_mode": {
    "name": "ipython",
    "version": 3
   },
   "file_extension": ".py",
   "mimetype": "text/x-python",
   "name": "python",
   "nbconvert_exporter": "python",
   "pygments_lexer": "ipython3",
   "version": "3.12.2"
  }
 },
 "nbformat": 4,
 "nbformat_minor": 2
}

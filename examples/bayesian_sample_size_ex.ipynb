{
 "cells": [
  {
   "cell_type": "code",
   "execution_count": 12,
   "metadata": {},
   "outputs": [],
   "source": [
    "import numpy as np\n",
    "import matplotlib.pyplot as plt\n",
    "import seaborn as sns\n",
    "from scipy.stats import beta\n",
    "from bayessizer.calculator import bayesian_sample_size\n",
    "from bayessizer.inference import compute_posterior, credible_interval, probability_test_better\n",
    "from bayessizer.priors import get_beta_prior\n",
    "\n",
    "\n",
    "# Set notebook to display inline plots\n",
    "%matplotlib inline"
   ]
  },
  {
   "cell_type": "code",
   "execution_count": null,
   "metadata": {},
   "outputs": [],
   "source": [
    "from bayessizer.calculator import bayesian_sample_size\n",
    "\n",
    "# Example: Calculate required sample size with default parameters\n",
    "sample_size = bayesian_sample_size(prior_a=2, prior_b=2, min_effect=0.02, power=0.9, loss_threshold=0.005)\n",
    "print(f\"Required sample size per group for 2% effect size: {sample_size}\")"
   ]
  },
  {
   "cell_type": "code",
   "execution_count": null,
   "metadata": {},
   "outputs": [],
   "source": [
    "# Example: Compute Bayesian sample size with different minimum effects\n",
    "min_effects = np.linspace(0.01, 0.1, 10)\n",
    "sample_sizes = [bayesian_sample_size(prior_a=2, prior_b=2, min_effect=e, power=0.9, loss_threshold=0.05) for e in min_effects]\n",
    "\n",
    "# Plot the effect size vs. required sample size\n",
    "plt.figure(figsize=(8, 5))\n",
    "plt.plot(min_effects, sample_sizes, marker='o', linestyle='-')\n",
    "plt.xlabel('Minimum Detectable Effect Size')\n",
    "plt.ylabel('Required Sample Size per Group')\n",
    "plt.title('Bayesian Sample Size Calculation')\n",
    "plt.grid()\n",
    "plt.show()"
   ]
  },
  {
   "cell_type": "code",
   "execution_count": null,
   "metadata": {},
   "outputs": [],
   "source": [
    "# Display a single sample size calculation\n",
    "sample_size = bayesian_sample_size(prior_a=2, prior_b=2, min_effect=0.02, power=0.9, loss_threshold=0.01)\n",
    "print(f\"Required sample size per group for 2% effect size: {sample_size}\")\n",
    "\n",
    "# Plot posterior distributions for control and test groups\n",
    "sample_n = 100  # Fixed sample size for visualization\n",
    "control_posterior = beta(2 + sample_n * 0.5, 2 + sample_n * 0.5)\n",
    "test_posterior = beta(2 + sample_n * (0.5 + 0.02), 2 + sample_n * (0.5 - 0.02))\n",
    "\n",
    "x = np.linspace(0, 1, 1000)\n",
    "control_pdf = control_posterior.pdf(x)\n",
    "test_pdf = test_posterior.pdf(x)\n",
    "\n",
    "plt.figure(figsize=(8, 5))\n",
    "sns.lineplot(x=x, y=control_pdf, label='Control Group', color='blue')\n",
    "sns.lineplot(x=x, y=test_pdf, label='Test Group', color='red')\n",
    "\n",
    "# Compute 95% credible intervals\n",
    "control_ci_lower, control_ci_upper = control_posterior.ppf([0.025, 0.975])\n",
    "test_ci_lower, test_ci_upper = test_posterior.ppf([0.025, 0.975])\n",
    "\n",
    "plt.axvline(control_ci_lower, color='blue', linestyle='--', alpha=0.7, label='Control 95% CI')\n",
    "plt.axvline(control_ci_upper, color='blue', linestyle='--', alpha=0.7)\n",
    "plt.axvline(test_ci_lower, color='red', linestyle='--', alpha=0.7, label='Test 95% CI')\n",
    "plt.axvline(test_ci_upper, color='red', linestyle='--', alpha=0.7)\n",
    "\n",
    "# Compute probability that the test group is better than the control group\n",
    "prob_test_better = 1 - control_posterior.cdf(test_posterior.ppf(0.5))\n",
    "\n",
    "plt.xlabel('Conversion Rate')\n",
    "plt.ylabel('Density')\n",
    "plt.title(f'Posterior Distributions with 95% Credible Intervals\\nP(Test > Control) = {prob_test_better:.3f}')\n",
    "plt.legend()\n",
    "plt.grid()\n",
    "plt.show()\n",
    "\n",
    "print(f\"Probability that the test group outperforms the control group: {prob_test_better:.3f}\")\n",
    "\n",
    "# Implement Bayesian stopping criteria\n",
    "stopping_threshold = 0.95  # Stop when P(Test > Control) exceeds 95%\n",
    "\n",
    "if prob_test_better >= stopping_threshold:\n",
    "    print(\"Experiment can be stopped early: Test group is significantly better!\")\n",
    "else:\n",
    "    print(\"Continue collecting more data: Decision is uncertain.\")"
   ]
  }
 ],
 "metadata": {
  "kernelspec": {
   "display_name": ".venv",
   "language": "python",
   "name": "python3"
  },
  "language_info": {
   "codemirror_mode": {
    "name": "ipython",
    "version": 3
   },
   "file_extension": ".py",
   "mimetype": "text/x-python",
   "name": "python",
   "nbconvert_exporter": "python",
   "pygments_lexer": "ipython3",
   "version": "3.12.2"
  }
 },
 "nbformat": 4,
 "nbformat_minor": 2
}
